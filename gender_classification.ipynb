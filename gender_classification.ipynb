from sklearn import tree
from sklearn import neighbors
from sklearn import neural_network
from sklearn import naive_bayes
from sklearn.metrics import accuracy_score




clf = tree.DecisionTreeClassifier()
knn = neighbors. KNeighborsClassifier(3)
nb = naive_bayes.GaussianNB()
nn = neural_network.MLPClassifier(alpha=1)

classifier = [clf,knn,nb,nn]
names = ["Decision Tree" , "Nearest Neighbors","Neural Net","Naive Bayes",]
accuracy = {}


# [height, weight, shoe_size]
X = [[181, 80, 44], [177, 70, 43], [160, 60, 38], [154, 54, 37], [166, 65, 40],
     [190, 90, 47], [175, 64, 39],
     [177, 70, 40], [159, 55, 37], [171, 75, 42], [181, 85, 43]]

Y = ['male', 'male', 'female', 'female', 'male', 'male', 'female', 'female',
     'female', 'male', 'male']


for name , clr in zip(names , classifier):
  clr = clr.fit(X, Y)
  prediction = clf.predict(X)
  accuracy[name] = accuracy_score(prediction , Y)

print(accuracy)
